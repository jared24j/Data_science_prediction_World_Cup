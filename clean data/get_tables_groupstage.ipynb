{
  "metadata": {
    "toc": {
      "base_numbering": 1,
      "nav_menu": {},
      "number_sections": true,
      "sideBar": true,
      "skip_h1_title": false,
      "title_cell": "Table of Contents",
      "title_sidebar": "Contents",
      "toc_cell": false,
      "toc_position": {},
      "toc_section_display": true,
      "toc_window_display": false
    },
    "kernelspec": {
      "name": "python",
      "display_name": "Python (Pyodide)",
      "language": "python"
    },
    "language_info": {
      "codemirror_mode": {
        "name": "python",
        "version": 3
      },
      "file_extension": ".py",
      "mimetype": "text/x-python",
      "name": "python",
      "nbconvert_exporter": "python",
      "pygments_lexer": "ipython3",
      "version": "3.8"
    }
  },
  "nbformat_minor": 5,
  "nbformat": 4,
  "cells": [
    {
      "cell_type": "code",
      "source": "import pandas as pd\nimport pickle\nfrom string import ascii_uppercase as alphabet",
      "metadata": {},
      "execution_count": 1,
      "outputs": [],
      "id": "10bc0635"
    },
    {
      "cell_type": "code",
      "source": "# extracting all tables in website\nall_tables = pd.read_html('https://en.wikipedia.org/wiki/2022_FIFA_World_Cup')",
      "metadata": {},
      "execution_count": 2,
      "outputs": [],
      "id": "75bd8c1c"
    },
    {
      "cell_type": "code",
      "source": "# finding tables in group stage\nall_tables[11]\nall_tables[18]\nall_tables[25]",
      "metadata": {
        "scrolled": true
      },
      "execution_count": 3,
      "outputs": [
        {
          "execution_count": 3,
          "output_type": "execute_result",
          "data": {
            "text/html": [
              "<div>\n",
              "<style scoped>\n",
              "    .dataframe tbody tr th:only-of-type {\n",
              "        vertical-align: middle;\n",
              "    }\n",
              "\n",
              "    .dataframe tbody tr th {\n",
              "        vertical-align: top;\n",
              "    }\n",
              "\n",
              "    .dataframe thead th {\n",
              "        text-align: right;\n",
              "    }\n",
              "</style>\n",
              "<table border=\"1\" class=\"dataframe\">\n",
              "  <thead>\n",
              "    <tr style=\"text-align: right;\">\n",
              "      <th></th>\n",
              "      <th>Pos</th>\n",
              "      <th>Teamvte</th>\n",
              "      <th>Pld</th>\n",
              "      <th>W</th>\n",
              "      <th>D</th>\n",
              "      <th>L</th>\n",
              "      <th>GF</th>\n",
              "      <th>GA</th>\n",
              "      <th>GD</th>\n",
              "      <th>Pts</th>\n",
              "      <th>Qualification</th>\n",
              "    </tr>\n",
              "  </thead>\n",
              "  <tbody>\n",
              "    <tr>\n",
              "      <th>0</th>\n",
              "      <td>1</td>\n",
              "      <td>Argentina</td>\n",
              "      <td>0</td>\n",
              "      <td>0</td>\n",
              "      <td>0</td>\n",
              "      <td>0</td>\n",
              "      <td>0</td>\n",
              "      <td>0</td>\n",
              "      <td>0</td>\n",
              "      <td>0</td>\n",
              "      <td>Advance to knockout stage</td>\n",
              "    </tr>\n",
              "    <tr>\n",
              "      <th>1</th>\n",
              "      <td>2</td>\n",
              "      <td>Saudi Arabia</td>\n",
              "      <td>0</td>\n",
              "      <td>0</td>\n",
              "      <td>0</td>\n",
              "      <td>0</td>\n",
              "      <td>0</td>\n",
              "      <td>0</td>\n",
              "      <td>0</td>\n",
              "      <td>0</td>\n",
              "      <td>Advance to knockout stage</td>\n",
              "    </tr>\n",
              "    <tr>\n",
              "      <th>2</th>\n",
              "      <td>3</td>\n",
              "      <td>Mexico</td>\n",
              "      <td>0</td>\n",
              "      <td>0</td>\n",
              "      <td>0</td>\n",
              "      <td>0</td>\n",
              "      <td>0</td>\n",
              "      <td>0</td>\n",
              "      <td>0</td>\n",
              "      <td>0</td>\n",
              "      <td>NaN</td>\n",
              "    </tr>\n",
              "    <tr>\n",
              "      <th>3</th>\n",
              "      <td>4</td>\n",
              "      <td>Poland</td>\n",
              "      <td>0</td>\n",
              "      <td>0</td>\n",
              "      <td>0</td>\n",
              "      <td>0</td>\n",
              "      <td>0</td>\n",
              "      <td>0</td>\n",
              "      <td>0</td>\n",
              "      <td>0</td>\n",
              "      <td>NaN</td>\n",
              "    </tr>\n",
              "  </tbody>\n",
              "</table>\n",
              "</div>"
            ],
            "text/plain": [
              "   Pos       Teamvte  Pld  W  D  L  GF  GA  GD  Pts              Qualification\n",
              "0    1     Argentina    0  0  0  0   0   0   0    0  Advance to knockout stage\n",
              "1    2  Saudi Arabia    0  0  0  0   0   0   0    0  Advance to knockout stage\n",
              "2    3        Mexico    0  0  0  0   0   0   0    0                        NaN\n",
              "3    4        Poland    0  0  0  0   0   0   0    0                        NaN"
            ]
          },
          "metadata": {}
        }
      ],
      "id": "0963aa0b"
    },
    {
      "cell_type": "code",
      "source": "# A -> H\n# 11 -> 7*8 + 11 = 67\nall_tables = pd.read_html('https://en.wikipedia.org/wiki/2022_FIFA_World_Cup')\nfor i in range(11,67,7): # 11 18 25\n    print(i)\n    df = all_tables[i]\n    df.rename(columns={df.columns[1]:'Team'}, inplace=True)\n    df.pop('Qualification')\n#     print(df)",
      "metadata": {
        "scrolled": true
      },
      "execution_count": 4,
      "outputs": [
        {
          "name": "stdout",
          "output_type": "stream",
          "text": "11\n\n18\n\n25\n\n32\n\n39\n\n46\n\n53\n\n60\n"
        }
      ],
      "id": "e892e8b0"
    },
    {
      "cell_type": "code",
      "source": "print(alphabet)",
      "metadata": {},
      "execution_count": 5,
      "outputs": [
        {
          "name": "stdout",
          "output_type": "stream",
          "text": "ABCDEFGHIJKLMNOPQRSTUVWXYZ\n"
        }
      ],
      "id": "0c7376f0"
    },
    {
      "cell_type": "code",
      "source": "all_tables = pd.read_html('https://en.wikipedia.org/wiki/2022_FIFA_World_Cup')\n\ndict_table = {}\nfor letter, i in zip(alphabet, range(11,67,7)): # A=11, B=18, ...\n    df = all_tables[i]\n    df.rename(columns={df.columns[1]:'Team'}, inplace=True)\n    df.pop('Qualification')\n    dict_table[f'Group {letter}'] = df",
      "metadata": {},
      "execution_count": 6,
      "outputs": [],
      "id": "66ec11dd"
    },
    {
      "cell_type": "code",
      "source": "dict_table.keys()",
      "metadata": {},
      "execution_count": 7,
      "outputs": [
        {
          "execution_count": 7,
          "output_type": "execute_result",
          "data": {
            "text/plain": [
              "dict_keys(['Group A', 'Group B', 'Group C', 'Group D', 'Group E', 'Group F', 'Group G', 'Group H'])"
            ]
          },
          "metadata": {}
        }
      ],
      "id": "7d1c5b60"
    },
    {
      "cell_type": "code",
      "source": "dict_table['Group H']",
      "metadata": {
        "trusted": true
      },
      "execution_count": null,
      "outputs": [],
      "id": "42ae3807"
    },
    {
      "cell_type": "code",
      "source": "# Upload (..verify if uploaded correctly)\nwith open('dict_table', 'wb') as output:\n    pickle.dump(dict_table, output)",
      "metadata": {
        "trusted": true
      },
      "execution_count": null,
      "outputs": [],
      "id": "c66edc15"
    },
    {
      "cell_type": "code",
      "source": "",
      "metadata": {},
      "execution_count": null,
      "outputs": [],
      "id": "43e707f8-51e9-4e95-a12b-efda048c8804"
    }
  ]
}